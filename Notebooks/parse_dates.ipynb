{
 "cells": [
  {
   "cell_type": "code",
   "execution_count": 8,
   "metadata": {
    "ExecuteTime": {
     "end_time": "2018-06-23T18:19:54.683870Z",
     "start_time": "2018-06-23T18:19:54.678157Z"
    }
   },
   "outputs": [],
   "source": [
    "import pandas as pd\n",
    "import pickle\n",
    "import random\n",
    "pd.set_option('display.max_columns',60)\n",
    "%matplotlib inline\n",
    "import datetime"
   ]
  },
  {
   "cell_type": "code",
   "execution_count": 2,
   "metadata": {
    "ExecuteTime": {
     "end_time": "2018-06-23T18:18:50.817245Z",
     "start_time": "2018-06-23T18:18:50.649489Z"
    }
   },
   "outputs": [],
   "source": [
    "newsData = pd.read_pickle('../Data/Feedly_Processed_DF_cleaned.pkl')"
   ]
  },
  {
   "cell_type": "code",
   "execution_count": 3,
   "metadata": {
    "ExecuteTime": {
     "end_time": "2018-06-23T18:18:55.142275Z",
     "start_time": "2018-06-23T18:18:55.121174Z"
    }
   },
   "outputs": [
    {
     "data": {
      "text/html": [
       "<div>\n",
       "<style scoped>\n",
       "    .dataframe tbody tr th:only-of-type {\n",
       "        vertical-align: middle;\n",
       "    }\n",
       "\n",
       "    .dataframe tbody tr th {\n",
       "        vertical-align: top;\n",
       "    }\n",
       "\n",
       "    .dataframe thead th {\n",
       "        text-align: right;\n",
       "    }\n",
       "</style>\n",
       "<table border=\"1\" class=\"dataframe\">\n",
       "  <thead>\n",
       "    <tr style=\"text-align: right;\">\n",
       "      <th></th>\n",
       "      <th>article_id</th>\n",
       "      <th>title</th>\n",
       "      <th>url</th>\n",
       "      <th>feed_label</th>\n",
       "      <th>content</th>\n",
       "      <th>published</th>\n",
       "      <th>summary</th>\n",
       "      <th>article_text</th>\n",
       "      <th>article_keywords</th>\n",
       "      <th>article_text_len</th>\n",
       "      <th>top_lang</th>\n",
       "    </tr>\n",
       "  </thead>\n",
       "  <tbody>\n",
       "    <tr>\n",
       "      <th>10900</th>\n",
       "      <td>eebb9702</td>\n",
       "      <td>India, World Bank sign financing agreement for...</td>\n",
       "      <td>http://www.abplive.in/business/india-world-ban...</td>\n",
       "      <td>NEWS WB- All Streams</td>\n",
       "      <td>NaN</td>\n",
       "      <td>2017-12-21 09:22:12</td>\n",
       "      <td>&lt;table border=\"0\" cellspacing=\"3\" cellpadding=...</td>\n",
       "      <td>New Delhi [India], Dec 20 (ANI): A financing a...</td>\n",
       "      <td>[institutes, india, skill, financing, training...</td>\n",
       "      <td>1031</td>\n",
       "      <td>en</td>\n",
       "    </tr>\n",
       "    <tr>\n",
       "      <th>4268</th>\n",
       "      <td>6832ce57</td>\n",
       "      <td>Rs 40000-crore development projects in limbo i...</td>\n",
       "      <td>http://www.moneycontrol.com/news/business/econ...</td>\n",
       "      <td>NEWS AIIB - All Streams</td>\n",
       "      <td>NaN</td>\n",
       "      <td>2017-12-10 09:40:00</td>\n",
       "      <td>&lt;table border=\"0\" cellspacing=\"3\" cellpadding=...</td>\n",
       "      <td>Development projects worth more than Rs 40,000...</td>\n",
       "      <td>[development, crore, andhra, eaps, state, proj...</td>\n",
       "      <td>4390</td>\n",
       "      <td>en</td>\n",
       "    </tr>\n",
       "    <tr>\n",
       "      <th>1663</th>\n",
       "      <td>30f8f65e</td>\n",
       "      <td>https://www.the-american-interest.com/2018/01/...</td>\n",
       "      <td>https://www.the-american-interest.com/2018/01/...</td>\n",
       "      <td>NEWS AFDB- All Streams</td>\n",
       "      <td>NaN</td>\n",
       "      <td>2018-01-03 12:21:54</td>\n",
       "      <td>&lt;table border=\"0\" cellspacing=\"3\" cellpadding=...</td>\n",
       "      <td>Ten Lessons\\n\\nDevelopment with Chinese Charac...</td>\n",
       "      <td>[transitions, university, chinese, united, dev...</td>\n",
       "      <td>575</td>\n",
       "      <td>en</td>\n",
       "    </tr>\n",
       "    <tr>\n",
       "      <th>3789</th>\n",
       "      <td>5ec16472</td>\n",
       "      <td>$300 Million to Expand and Upgrade Infrastruct...</td>\n",
       "      <td>https://jis.gov.jm/300-million-to-expand-and-u...</td>\n",
       "      <td>NEWS IDB - All Streams</td>\n",
       "      <td>NaN</td>\n",
       "      <td>2018-04-27 16:28:43</td>\n",
       "      <td>&lt;table border=\"0\" cellspacing=\"3\" cellpadding=...</td>\n",
       "      <td>Minister of Industry, Commerce, Agriculture an...</td>\n",
       "      <td>[research, development, agriculture, fisheries...</td>\n",
       "      <td>2621</td>\n",
       "      <td>en</td>\n",
       "    </tr>\n",
       "    <tr>\n",
       "      <th>6657</th>\n",
       "      <td>989c9942</td>\n",
       "      <td>ADB Provides $346 Million to Upgrade State Hig...</td>\n",
       "      <td>http://www.business-standard.com/article/news-...</td>\n",
       "      <td>NEWS ADB - All Streams</td>\n",
       "      <td>NaN</td>\n",
       "      <td>2017-12-10 01:00:00</td>\n",
       "      <td>&lt;table border=\"0\" cellspacing=\"3\" cellpadding=...</td>\n",
       "      <td>The Asian Development Bank's (ADB) Board of Di...</td>\n",
       "      <td>[highways, improvement, india, state, upgrade,...</td>\n",
       "      <td>2532</td>\n",
       "      <td>en</td>\n",
       "    </tr>\n",
       "  </tbody>\n",
       "</table>\n",
       "</div>"
      ],
      "text/plain": [
       "      article_id                                              title  \\\n",
       "10900   eebb9702  India, World Bank sign financing agreement for...   \n",
       "4268    6832ce57  Rs 40000-crore development projects in limbo i...   \n",
       "1663    30f8f65e  https://www.the-american-interest.com/2018/01/...   \n",
       "3789    5ec16472  $300 Million to Expand and Upgrade Infrastruct...   \n",
       "6657    989c9942  ADB Provides $346 Million to Upgrade State Hig...   \n",
       "\n",
       "                                                     url  \\\n",
       "10900  http://www.abplive.in/business/india-world-ban...   \n",
       "4268   http://www.moneycontrol.com/news/business/econ...   \n",
       "1663   https://www.the-american-interest.com/2018/01/...   \n",
       "3789   https://jis.gov.jm/300-million-to-expand-and-u...   \n",
       "6657   http://www.business-standard.com/article/news-...   \n",
       "\n",
       "                    feed_label content           published  \\\n",
       "10900     NEWS WB- All Streams     NaN 2017-12-21 09:22:12   \n",
       "4268   NEWS AIIB - All Streams     NaN 2017-12-10 09:40:00   \n",
       "1663    NEWS AFDB- All Streams     NaN 2018-01-03 12:21:54   \n",
       "3789    NEWS IDB - All Streams     NaN 2018-04-27 16:28:43   \n",
       "6657    NEWS ADB - All Streams     NaN 2017-12-10 01:00:00   \n",
       "\n",
       "                                                 summary  \\\n",
       "10900  <table border=\"0\" cellspacing=\"3\" cellpadding=...   \n",
       "4268   <table border=\"0\" cellspacing=\"3\" cellpadding=...   \n",
       "1663   <table border=\"0\" cellspacing=\"3\" cellpadding=...   \n",
       "3789   <table border=\"0\" cellspacing=\"3\" cellpadding=...   \n",
       "6657   <table border=\"0\" cellspacing=\"3\" cellpadding=...   \n",
       "\n",
       "                                            article_text  \\\n",
       "10900  New Delhi [India], Dec 20 (ANI): A financing a...   \n",
       "4268   Development projects worth more than Rs 40,000...   \n",
       "1663   Ten Lessons\\n\\nDevelopment with Chinese Charac...   \n",
       "3789   Minister of Industry, Commerce, Agriculture an...   \n",
       "6657   The Asian Development Bank's (ADB) Board of Di...   \n",
       "\n",
       "                                        article_keywords  article_text_len  \\\n",
       "10900  [institutes, india, skill, financing, training...              1031   \n",
       "4268   [development, crore, andhra, eaps, state, proj...              4390   \n",
       "1663   [transitions, university, chinese, united, dev...               575   \n",
       "3789   [research, development, agriculture, fisheries...              2621   \n",
       "6657   [highways, improvement, india, state, upgrade,...              2532   \n",
       "\n",
       "      top_lang  \n",
       "10900       en  \n",
       "4268        en  \n",
       "1663        en  \n",
       "3789        en  \n",
       "6657        en  "
      ]
     },
     "execution_count": 3,
     "metadata": {},
     "output_type": "execute_result"
    }
   ],
   "source": [
    "newsData.head()"
   ]
  },
  {
   "cell_type": "code",
   "execution_count": 6,
   "metadata": {
    "ExecuteTime": {
     "end_time": "2018-06-23T18:19:33.089987Z",
     "start_time": "2018-06-23T18:19:33.087241Z"
    }
   },
   "outputs": [],
   "source": [
    "import datefinder"
   ]
  },
  {
   "cell_type": "code",
   "execution_count": 5,
   "metadata": {
    "ExecuteTime": {
     "end_time": "2018-06-23T18:19:12.939674Z",
     "start_time": "2018-06-23T18:19:12.904155Z"
    }
   },
   "outputs": [],
   "source": []
  },
  {
   "cell_type": "code",
   "execution_count": 20,
   "metadata": {
    "ExecuteTime": {
     "end_time": "2018-06-23T18:21:40.133477Z",
     "start_time": "2018-06-23T18:21:40.129353Z"
    }
   },
   "outputs": [],
   "source": [
    "def extract_dates(text:str, base_date:datetime, min_date=datetime.date(2000,1,1),num_dates=5):\n",
    "    \"\"\"\n",
    "    Given a text, parse all dates found in the content\n",
    "    \n",
    "    text: article content\n",
    "    min_date: minimum date for date to be considered valid\n",
    "    \"\"\"\n",
    "    matches = datefinder.find_dates(text,base_date=base_date)\n",
    "    valid_found_dates = set()\n",
    "    for match_date in matches:\n",
    "        match_date = match_date.date()\n",
    "        if match_date > min_date:\n",
    "            valid_found_dates.add(match_date)\n",
    "\n",
    "    return list(valid_found_dates)[:num_dates]"
   ]
  },
  {
   "cell_type": "code",
   "execution_count": 21,
   "metadata": {
    "ExecuteTime": {
     "end_time": "2018-06-23T18:21:40.674396Z",
     "start_time": "2018-06-23T18:21:40.625113Z"
    }
   },
   "outputs": [
    {
     "data": {
      "text/plain": [
       "10900                 [2017-12-20, 2022-11-30, 2017-12-26]\n",
       "4268     [2016-09-10, 2016-10-24, 2016-12-10, 2017-07-3...\n",
       "1663                                                    []\n",
       "3789                                          [2018-04-25]\n",
       "6657                              [2017-03-10, 2023-12-10]\n",
       "dtype: object"
      ]
     },
     "execution_count": 21,
     "metadata": {},
     "output_type": "execute_result"
    }
   ],
   "source": [
    "newsData.head().apply(lambda x : extract_dates (x['article_text'], x['published']), axis=1)"
   ]
  },
  {
   "cell_type": "code",
   "execution_count": 22,
   "metadata": {
    "ExecuteTime": {
     "end_time": "2018-06-23T18:23:39.132192Z",
     "start_time": "2018-06-23T18:21:42.660335Z"
    }
   },
   "outputs": [],
   "source": [
    "newsData['dates']=newsData.apply(lambda x : extract_dates (x['article_text'], x['published']), axis=1)"
   ]
  },
  {
   "cell_type": "code",
   "execution_count": 24,
   "metadata": {
    "ExecuteTime": {
     "end_time": "2018-06-23T18:26:14.252415Z",
     "start_time": "2018-06-23T18:26:14.185877Z"
    }
   },
   "outputs": [],
   "source": [
    "newsData[['article_id','dates']].to_csv('article_date.csv')"
   ]
  },
  {
   "cell_type": "code",
   "execution_count": null,
   "metadata": {},
   "outputs": [],
   "source": []
  }
 ],
 "metadata": {
  "kernelspec": {
   "display_name": "Python 3",
   "language": "python",
   "name": "python3"
  },
  "language_info": {
   "codemirror_mode": {
    "name": "ipython",
    "version": 3
   },
   "file_extension": ".py",
   "mimetype": "text/x-python",
   "name": "python",
   "nbconvert_exporter": "python",
   "pygments_lexer": "ipython3",
   "version": "3.6.5"
  }
 },
 "nbformat": 4,
 "nbformat_minor": 2
}
